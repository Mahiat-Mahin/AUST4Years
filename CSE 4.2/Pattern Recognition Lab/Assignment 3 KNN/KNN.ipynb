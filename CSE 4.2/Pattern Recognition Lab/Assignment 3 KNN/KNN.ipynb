{
  "nbformat": 4,
  "nbformat_minor": 0,
  "metadata": {
    "kernelspec": {
      "display_name": "Python 3",
      "language": "python",
      "name": "python3"
    },
    "language_info": {
      "codemirror_mode": {
        "name": "ipython",
        "version": 3
      },
      "file_extension": ".py",
      "mimetype": "text/x-python",
      "name": "python",
      "nbconvert_exporter": "python",
      "pygments_lexer": "ipython3",
      "version": "3.7.4"
    },
    "colab": {
      "provenance": []
    }
  },
  "cells": [
    {
      "cell_type": "code",
      "metadata": {
        "id": "Aoqee2qIPtIb"
      },
      "source": [
        "import numpy as np\n",
        "import pandas as pd\n",
        "import matplotlib.pyplot as plt\n",
        "import csv"
      ],
      "execution_count": null,
      "outputs": []
    },
    {
      "cell_type": "code",
      "metadata": {
        "id": "Tyu91fsTPtIe"
      },
      "source": [
        "data_train = []\n",
        "with open('train_knn.txt','r') as file:\n",
        "    new_reader = csv.reader(file,delimiter=',')\n",
        "    for row in new_reader:\n",
        "        data_train.append(row)"
      ],
      "execution_count": null,
      "outputs": []
    },
    {
      "cell_type": "code",
      "source": [
        "from google.colab import drive\n",
        "drive.mount('/content/drive')"
      ],
      "metadata": {
        "colab": {
          "base_uri": "https://localhost:8080/"
        },
        "id": "s6iCIJwx6E_c",
        "outputId": "971febc4-8ae4-44bc-9076-38ce98739833"
      },
      "execution_count": null,
      "outputs": [
        {
          "output_type": "stream",
          "name": "stdout",
          "text": [
            "Mounted at /content/drive\n"
          ]
        }
      ]
    },
    {
      "cell_type": "code",
      "metadata": {
        "id": "vawzRrFJPtIe"
      },
      "source": [
        "for i in range(len(data_train)):\n",
        "    for j in range(len(data_train[i])):\n",
        "        data_train[i][j] = int(data_train[i][j])"
      ],
      "execution_count": null,
      "outputs": []
    },
    {
      "cell_type": "code",
      "metadata": {
        "id": "OqCSBB4MPtIf"
      },
      "source": [
        "a = []\n",
        "b = []\n",
        "for train in data_train:\n",
        "    if train[2]==1:\n",
        "        a.append([train[0], train[1]])\n",
        "    elif train[2]==2:\n",
        "        b.append([train[0], train[1]])\n",
        "class_a = np.array(a)\n",
        "class_b = np.array(b)"
      ],
      "execution_count": null,
      "outputs": []
    },
    {
      "cell_type": "code",
      "metadata": {
        "id": "kBGR5J5gPtIg",
        "colab": {
          "base_uri": "https://localhost:8080/",
          "height": 265
        },
        "outputId": "749c22c1-4d33-4430-c76b-aa4b030bc5e4"
      },
      "source": [
        "plt.plot(class_a[:,0:1],class_a[:, 1:], linestyle = '', marker='o', color='r', label =\"Train Class 1\")\n",
        "plt.plot(class_b[:,0:1],class_b[:, 1:], linestyle = '', marker = '*', color = 'b', label =\"Train Class 2\")\n",
        "plt.legend()\n",
        "plt.show()"
      ],
      "execution_count": null,
      "outputs": [
        {
          "output_type": "display_data",
          "data": {
            "image/png": "[encoded data removed]",
            "text/plain": [
              "<Figure size 432x288 with 1 Axes>"
            ]
          },
          "metadata": {
            "needs_background": "light"
          }
        }
      ]
    },
    {
      "cell_type": "code",
      "metadata": {
        "id": "mCMI_h7hPtIi"
      },
      "source": [
        "data_test = []\n",
        "with open('test_knn.txt','r') as file:\n",
        "    new_reader = csv.reader(file,delimiter=',')\n",
        "    for row in new_reader:\n",
        "        data_test.append(row)"
      ],
      "execution_count": null,
      "outputs": []
    },
    {
      "cell_type": "code",
      "metadata": {
        "id": "nLrlkSNrPtIi"
      },
      "source": [
        "for i in range(len(data_test)):\n",
        "    for j in range(len(data_test[i])):\n",
        "        data_test[i][j] = int(data_test[i][j])"
      ],
      "execution_count": null,
      "outputs": []
    },
    {
      "cell_type": "code",
      "metadata": {
        "id": "nY0AQx9yPtIj"
      },
      "source": [
        "def euclidean_distance(row1, row2):\n",
        "    distance = (row1[0] - row2[0])**2 + (row1[1] - row2[1])**2\n",
        "    return distance"
      ],
      "execution_count": null,
      "outputs": []
    },
    {
      "cell_type": "code",
      "metadata": {
        "id": "Tv7wGJBlPtIj"
      },
      "source": [
        "output = open('prediction.txt','a')"
      ],
      "execution_count": null,
      "outputs": []
    },
    {
      "cell_type": "code",
      "metadata": {
        "id": "1ZNmH-wrPtIk"
      },
      "source": [
        "pred_class1 = []\n",
        "pred_class2 = []\n",
        "\n",
        "def KNN(k, point):\n",
        "    top = []\n",
        "    output.write(\"Test Point: %d, %d\\n\"%(point[0], point[1]))\n",
        "    cnt_1 = 0\n",
        "    cnt_2 = 0\n",
        "    for item in data_train:\n",
        "        dist = euclidean_distance(point, item)\n",
        "        top.append((dist, item[2]))\n",
        "    top.sort(key=lambda x:x[0])\n",
        "    for i in range(k):\n",
        "        output.write(\"Distance %d: %d \\tClass: %d\\n\"%(i+1, top[i][0], top[i][1]))\n",
        "    for i in range(k):\n",
        "        if(top[i][1]==1):\n",
        "            cnt_1 = cnt_1+1\n",
        "        else:\n",
        "            cnt_2 = cnt_2+1\n",
        "    if(cnt_1>=cnt_2):\n",
        "        output.write(\"Predicted Class: 1\")\n",
        "        pred_class1.append(point)\n",
        "    else:\n",
        "        output.write(\"Predicted Class: 2\")\n",
        "        pred_class2.append(point)\n",
        "    output.write(\"\\n\\n\")"
      ],
      "execution_count": null,
      "outputs": []
    },
    {
      "cell_type": "code",
      "metadata": {
        "id": "X8UkAuFyPtIk",
        "colab": {
          "base_uri": "https://localhost:8080/"
        },
        "outputId": "beb3a092-f68b-4852-ee30-240563118470"
      },
      "source": [
        "k=int(input('Enter the Value of K: '))\n",
        "for point in data_test:\n",
        "    KNN(k, point)\n",
        "output.close()"
      ],
      "execution_count": null,
      "outputs": [
        {
          "name": "stdout",
          "output_type": "stream",
          "text": [
            "Enter the Value of K: 3\n"
          ]
        }
      ]
    },
    {
      "cell_type": "code",
      "metadata": {
        "id": "XCgNPKESPtIl"
      },
      "source": [
        "pred_class1 = np.array(pred_class1)\n",
        "pred_class2 = np.array(pred_class2)"
      ],
      "execution_count": null,
      "outputs": []
    },
    {
      "cell_type": "code",
      "metadata": {
        "id": "6tMbycIOPtIl",
        "colab": {
          "base_uri": "https://localhost:8080/",
          "height": 265
        },
        "outputId": "68dbeede-6a59-458a-a2b7-5c2bae7aea42"
      },
      "source": [
        "plt.plot(pred_class1[:,0:1],pred_class1[:, 1:], linestyle = '', marker='P', color='r', label =\"Predicted Class 1\")\n",
        "plt.plot(pred_class2[:,0:1],pred_class2[:, 1:], linestyle = '', marker = 'X', color = 'b', label =\"Predicted Class 2\")\n",
        "plt.legend()\n",
        "plt.show()"
      ],
      "execution_count": null,
      "outputs": [
        {
          "output_type": "display_data",
          "data": {
            "image/png": "[encoded data removed]",
            "text/plain": [
              "<Figure size 432x288 with 1 Axes>"
            ]
          },
          "metadata": {
            "needs_background": "light"
          }
        }
      ]
    }
  ]
}